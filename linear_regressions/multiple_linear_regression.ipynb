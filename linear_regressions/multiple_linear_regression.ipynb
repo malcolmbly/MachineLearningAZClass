{
  "nbformat": 4,
  "nbformat_minor": 0,
  "metadata": {
    "colab": {
      "name": "multiple_linear_regression.ipynb",
      "provenance": [],
      "toc_visible": true,
      "include_colab_link": true
    },
    "kernelspec": {
      "name": "python3",
      "display_name": "Python 3"
    }
  },
  "cells": [
    {
      "cell_type": "markdown",
      "metadata": {
        "id": "view-in-github",
        "colab_type": "text"
      },
      "source": [
        "<a href=\"https://colab.research.google.com/github/malcolmbly/MachineLearningAZClass/blob/main/linear_regressions/multiple_linear_regression.ipynb\" target=\"_parent\"><img src=\"https://colab.research.google.com/assets/colab-badge.svg\" alt=\"Open In Colab\"/></a>"
      ]
    },
    {
      "cell_type": "markdown",
      "metadata": {
        "id": "CazISR8X_HUG"
      },
      "source": [
        "# Multiple Linear Regression"
      ]
    },
    {
      "cell_type": "markdown",
      "metadata": {
        "id": "pOyqYHTk_Q57"
      },
      "source": [
        "## Importing the libraries"
      ]
    },
    {
      "cell_type": "code",
      "metadata": {
        "id": "T_YHJjnD_Tja"
      },
      "source": [
        "import numpy as np\n",
        "import matplotlib.pyplot as plt\n",
        "import pandas as pd"
      ],
      "execution_count": 88,
      "outputs": []
    },
    {
      "cell_type": "markdown",
      "metadata": {
        "id": "vgC61-ah_WIz"
      },
      "source": [
        "## Importing the dataset"
      ]
    },
    {
      "cell_type": "code",
      "metadata": {
        "id": "UrxyEKGn_ez7"
      },
      "source": [
        "dataset = pd.read_csv('50_Startups.csv')\n",
        "X = dataset.iloc[:, :-1].values\n",
        "y = dataset.iloc[:, -1].values"
      ],
      "execution_count": 89,
      "outputs": []
    },
    {
      "cell_type": "code",
      "metadata": {
        "id": "GOB3QhV9B5kD",
        "outputId": "e08de83e-1b37-41ba-b0ee-60f5b71c3edf",
        "colab": {
          "base_uri": "https://localhost:8080/",
          "height": 206
        }
      },
      "source": [
        "dataset.head()"
      ],
      "execution_count": 90,
      "outputs": [
        {
          "output_type": "execute_result",
          "data": {
            "text/html": [
              "<div>\n",
              "<style scoped>\n",
              "    .dataframe tbody tr th:only-of-type {\n",
              "        vertical-align: middle;\n",
              "    }\n",
              "\n",
              "    .dataframe tbody tr th {\n",
              "        vertical-align: top;\n",
              "    }\n",
              "\n",
              "    .dataframe thead th {\n",
              "        text-align: right;\n",
              "    }\n",
              "</style>\n",
              "<table border=\"1\" class=\"dataframe\">\n",
              "  <thead>\n",
              "    <tr style=\"text-align: right;\">\n",
              "      <th></th>\n",
              "      <th>R&amp;D Spend</th>\n",
              "      <th>Administration</th>\n",
              "      <th>Marketing Spend</th>\n",
              "      <th>State</th>\n",
              "      <th>Profit</th>\n",
              "    </tr>\n",
              "  </thead>\n",
              "  <tbody>\n",
              "    <tr>\n",
              "      <th>0</th>\n",
              "      <td>165349.20</td>\n",
              "      <td>136897.80</td>\n",
              "      <td>471784.10</td>\n",
              "      <td>New York</td>\n",
              "      <td>192261.83</td>\n",
              "    </tr>\n",
              "    <tr>\n",
              "      <th>1</th>\n",
              "      <td>162597.70</td>\n",
              "      <td>151377.59</td>\n",
              "      <td>443898.53</td>\n",
              "      <td>California</td>\n",
              "      <td>191792.06</td>\n",
              "    </tr>\n",
              "    <tr>\n",
              "      <th>2</th>\n",
              "      <td>153441.51</td>\n",
              "      <td>101145.55</td>\n",
              "      <td>407934.54</td>\n",
              "      <td>Florida</td>\n",
              "      <td>191050.39</td>\n",
              "    </tr>\n",
              "    <tr>\n",
              "      <th>3</th>\n",
              "      <td>144372.41</td>\n",
              "      <td>118671.85</td>\n",
              "      <td>383199.62</td>\n",
              "      <td>New York</td>\n",
              "      <td>182901.99</td>\n",
              "    </tr>\n",
              "    <tr>\n",
              "      <th>4</th>\n",
              "      <td>142107.34</td>\n",
              "      <td>91391.77</td>\n",
              "      <td>366168.42</td>\n",
              "      <td>Florida</td>\n",
              "      <td>166187.94</td>\n",
              "    </tr>\n",
              "  </tbody>\n",
              "</table>\n",
              "</div>"
            ],
            "text/plain": [
              "   R&D Spend  Administration  Marketing Spend       State     Profit\n",
              "0  165349.20       136897.80        471784.10    New York  192261.83\n",
              "1  162597.70       151377.59        443898.53  California  191792.06\n",
              "2  153441.51       101145.55        407934.54     Florida  191050.39\n",
              "3  144372.41       118671.85        383199.62    New York  182901.99\n",
              "4  142107.34        91391.77        366168.42     Florida  166187.94"
            ]
          },
          "metadata": {
            "tags": []
          },
          "execution_count": 90
        }
      ]
    },
    {
      "cell_type": "markdown",
      "metadata": {
        "id": "VadrvE7s_lS9"
      },
      "source": [
        "## Encoding categorical data"
      ]
    },
    {
      "cell_type": "code",
      "metadata": {
        "id": "vIJPzbIeH9uM"
      },
      "source": [
        "df = dataset.copy()\n",
        "state_columns = pd.get_dummies(df['State'])\n",
        "df = df.drop(['State'], axis=1)\n",
        "y = df.pop('Profit')\n"
      ],
      "execution_count": 91,
      "outputs": []
    },
    {
      "cell_type": "markdown",
      "metadata": {
        "id": "s3rwshuEYWUq"
      },
      "source": [
        "##Replace Missing Values\n"
      ]
    },
    {
      "cell_type": "code",
      "metadata": {
        "id": "6cwA40oQYVOb"
      },
      "source": [
        "#assuming the 0 values were false, in this case they were accurate (according to the class)\n",
        "#for column in df.columns:\n",
        "#   avg= np.average(df[column])\n",
        "#   print(avg)\n",
        "#   df[column]=df[column].replace(to_replace=0, value=avg)\n",
        "\n",
        "X = pd.concat((df, state_columns), axis=1)"
      ],
      "execution_count": 92,
      "outputs": []
    },
    {
      "cell_type": "code",
      "metadata": {
        "id": "mhoQHEdbJCiK",
        "outputId": "30de6f64-98d7-4e98-84c3-76f6eacd3eb8",
        "colab": {
          "base_uri": "https://localhost:8080/",
          "height": 1000
        }
      },
      "source": [
        "print(X)"
      ],
      "execution_count": 93,
      "outputs": [
        {
          "output_type": "stream",
          "text": [
            "    R&D Spend  Administration  Marketing Spend  California  Florida  New York\n",
            "0   165349.20       136897.80        471784.10           0        0         1\n",
            "1   162597.70       151377.59        443898.53           1        0         0\n",
            "2   153441.51       101145.55        407934.54           0        1         0\n",
            "3   144372.41       118671.85        383199.62           0        0         1\n",
            "4   142107.34        91391.77        366168.42           0        1         0\n",
            "5   131876.90        99814.71        362861.36           0        0         1\n",
            "6   134615.46       147198.87        127716.82           1        0         0\n",
            "7   130298.13       145530.06        323876.68           0        1         0\n",
            "8   120542.52       148718.95        311613.29           0        0         1\n",
            "9   123334.88       108679.17        304981.62           1        0         0\n",
            "10  101913.08       110594.11        229160.95           0        1         0\n",
            "11  100671.96        91790.61        249744.55           1        0         0\n",
            "12   93863.75       127320.38        249839.44           0        1         0\n",
            "13   91992.39       135495.07        252664.93           1        0         0\n",
            "14  119943.24       156547.42        256512.92           0        1         0\n",
            "15  114523.61       122616.84        261776.23           0        0         1\n",
            "16   78013.11       121597.55        264346.06           1        0         0\n",
            "17   94657.16       145077.58        282574.31           0        0         1\n",
            "18   91749.16       114175.79        294919.57           0        1         0\n",
            "19   86419.70       153514.11             0.00           0        0         1\n",
            "20   76253.86       113867.30        298664.47           1        0         0\n",
            "21   78389.47       153773.43        299737.29           0        0         1\n",
            "22   73994.56       122782.75        303319.26           0        1         0\n",
            "23   67532.53       105751.03        304768.73           0        1         0\n",
            "24   77044.01        99281.34        140574.81           0        0         1\n",
            "25   64664.71       139553.16        137962.62           1        0         0\n",
            "26   75328.87       144135.98        134050.07           0        1         0\n",
            "27   72107.60       127864.55        353183.81           0        0         1\n",
            "28   66051.52       182645.56        118148.20           0        1         0\n",
            "29   65605.48       153032.06        107138.38           0        0         1\n",
            "30   61994.48       115641.28         91131.24           0        1         0\n",
            "31   61136.38       152701.92         88218.23           0        0         1\n",
            "32   63408.86       129219.61         46085.25           1        0         0\n",
            "33   55493.95       103057.49        214634.81           0        1         0\n",
            "34   46426.07       157693.92        210797.67           1        0         0\n",
            "35   46014.02        85047.44        205517.64           0        0         1\n",
            "36   28663.76       127056.21        201126.82           0        1         0\n",
            "37   44069.95        51283.14        197029.42           1        0         0\n",
            "38   20229.59        65947.93        185265.10           0        0         1\n",
            "39   38558.51        82982.09        174999.30           1        0         0\n",
            "40   28754.33       118546.05        172795.67           1        0         0\n",
            "41   27892.92        84710.77        164470.71           0        1         0\n",
            "42   23640.93        96189.63        148001.11           1        0         0\n",
            "43   15505.73       127382.30         35534.17           0        0         1\n",
            "44   22177.74       154806.14         28334.72           1        0         0\n",
            "45    1000.23       124153.04          1903.93           0        0         1\n",
            "46    1315.46       115816.21        297114.46           0        1         0\n",
            "47       0.00       135426.92             0.00           1        0         0\n",
            "48     542.05        51743.15             0.00           0        0         1\n",
            "49       0.00       116983.80         45173.06           1        0         0\n"
          ],
          "name": "stdout"
        }
      ]
    },
    {
      "cell_type": "markdown",
      "metadata": {
        "id": "WemVnqgeA70k"
      },
      "source": [
        "## Splitting the dataset into the Training set and Test set"
      ]
    },
    {
      "cell_type": "code",
      "metadata": {
        "id": "hiogRCgVKygD"
      },
      "source": [
        "from sklearn.model_selection import train_test_split\n",
        "\n",
        "X_train, X_test, y_train, y_test= train_test_split(X,y, test_size=0.2, random_state=23)"
      ],
      "execution_count": 94,
      "outputs": []
    },
    {
      "cell_type": "code",
      "metadata": {
        "id": "WcZByAR3Lp7E"
      },
      "source": [
        "from sklearn.preprocessing import StandardScaler\n",
        "\n",
        "scaler = StandardScaler()\n",
        "\n",
        "X_train = scaler.fit_transform(X_train)\n",
        "X_test = scaler.transform(X_test)"
      ],
      "execution_count": 95,
      "outputs": []
    },
    {
      "cell_type": "markdown",
      "metadata": {
        "id": "k-McZVsQBINc"
      },
      "source": [
        "## Training the Multiple Linear Regression model on the Training set"
      ]
    },
    {
      "cell_type": "code",
      "metadata": {
        "id": "3BQiQJe-LFHP"
      },
      "source": [
        "\n",
        "from sklearn.linear_model import LinearRegression\n",
        "\n",
        "reg = LinearRegression()\n",
        "\n",
        "result = reg.fit(X_train,y_train)\n",
        "\n"
      ],
      "execution_count": 96,
      "outputs": []
    },
    {
      "cell_type": "markdown",
      "metadata": {
        "id": "xNkXL1YQBiBT"
      },
      "source": [
        "## Predicting the Test set results"
      ]
    },
    {
      "cell_type": "code",
      "metadata": {
        "id": "UO1rTmuBNCtH",
        "outputId": "98d74752-58fa-41ab-a900-ec46ff76f4b8",
        "colab": {
          "base_uri": "https://localhost:8080/",
          "height": 230
        }
      },
      "source": [
        "from sklearn.metrics import mean_squared_error\n",
        "\n",
        "predictions=reg.predict(X_test)\n",
        "\n",
        "np.set_printoptions(precision=2)\n",
        "\n",
        "print(np.concatenate((y_test.values.reshape(len(y_test),1), predictions.reshape(len(predictions),1)),axis=1))\n",
        "print('Root Mean Squared Error of test is:', np.sqrt(mean_squared_error(y_test, predictions)))"
      ],
      "execution_count": 124,
      "outputs": [
        {
          "output_type": "stream",
          "text": [
            "[[132602.65 151371.82]\n",
            " [124266.9  129709.1 ]\n",
            " [125370.37 130453.13]\n",
            " [ 97427.84  99406.5 ]\n",
            " [134307.35 127273.67]\n",
            " [ 96778.92  98155.08]\n",
            " [118474.03 115634.47]\n",
            " [152211.77 152507.23]\n",
            " [ 90708.19  74965.44]\n",
            " [103282.38 103051.16]]\n",
            "Root Mean Squared Error of test is: 8479.700078396994\n"
          ],
          "name": "stdout"
        }
      ]
    }
  ]
}