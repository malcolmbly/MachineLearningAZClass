{
  "nbformat": 4,
  "nbformat_minor": 0,
  "metadata": {
    "colab": {
      "name": "support_vector_regression.ipynb",
      "provenance": [],
      "collapsed_sections": [],
      "toc_visible": true,
      "include_colab_link": true
    },
    "kernelspec": {
      "name": "python3",
      "display_name": "Python 3"
    }
  },
  "cells": [
    {
      "cell_type": "markdown",
      "metadata": {
        "id": "view-in-github",
        "colab_type": "text"
      },
      "source": [
        "<a href=\"https://colab.research.google.com/github/malcolmbly/MachineLearningAZClass/blob/main/linear_regressions/support_vector_regression.ipynb\" target=\"_parent\"><img src=\"https://colab.research.google.com/assets/colab-badge.svg\" alt=\"Open In Colab\"/></a>"
      ]
    },
    {
      "cell_type": "markdown",
      "metadata": {
        "id": "m3PAEPRDRLA3"
      },
      "source": [
        "# Support Vector Regression (SVR)"
      ]
    },
    {
      "cell_type": "markdown",
      "metadata": {
        "id": "0VCUAVIjRdzZ"
      },
      "source": [
        "## Importing the libraries"
      ]
    },
    {
      "cell_type": "code",
      "metadata": {
        "id": "56oRF-QfSDzC"
      },
      "source": [
        "import numpy as np\n",
        "import matplotlib.pyplot as plt\n",
        "import pandas as pd"
      ],
      "execution_count": 3,
      "outputs": []
    },
    {
      "cell_type": "markdown",
      "metadata": {
        "id": "fXVXoFWtSF4_"
      },
      "source": [
        "## Importing the dataset"
      ]
    },
    {
      "cell_type": "code",
      "metadata": {
        "id": "xfoa8OSORfHQ"
      },
      "source": [
        "dataset = pd.read_csv('Position_Salaries.csv')\n",
        "X = dataset.iloc[:, 1:-1].values\n",
        "y = dataset.iloc[:, -1].values\n",
        "y = y.reshape(len(y),-1)"
      ],
      "execution_count": 4,
      "outputs": []
    },
    {
      "cell_type": "code",
      "metadata": {
        "id": "fAWJV6gpiTYM",
        "outputId": "07dc91a7-7897-45bd-9715-b02b5bb8f1bc",
        "colab": {
          "base_uri": "https://localhost:8080/",
          "height": 211
        }
      },
      "source": [
        "print(X)"
      ],
      "execution_count": 5,
      "outputs": [
        {
          "output_type": "stream",
          "text": [
            "[[ 1]\n",
            " [ 2]\n",
            " [ 3]\n",
            " [ 4]\n",
            " [ 5]\n",
            " [ 6]\n",
            " [ 7]\n",
            " [ 8]\n",
            " [ 9]\n",
            " [10]]\n"
          ],
          "name": "stdout"
        }
      ]
    },
    {
      "cell_type": "code",
      "metadata": {
        "id": "P1CzeAyRiU3c",
        "outputId": "525fdf6e-41e4-4e8a-d7f7-d812b3603aa2",
        "colab": {
          "base_uri": "https://localhost:8080/",
          "height": 211
        }
      },
      "source": [
        "print(y)"
      ],
      "execution_count": 6,
      "outputs": [
        {
          "output_type": "stream",
          "text": [
            "[[  45000]\n",
            " [  50000]\n",
            " [  60000]\n",
            " [  80000]\n",
            " [ 110000]\n",
            " [ 150000]\n",
            " [ 200000]\n",
            " [ 300000]\n",
            " [ 500000]\n",
            " [1000000]]\n"
          ],
          "name": "stdout"
        }
      ]
    },
    {
      "cell_type": "markdown",
      "metadata": {
        "id": "YS8FeLHYS-nI"
      },
      "source": [
        "## Feature Scaling"
      ]
    },
    {
      "cell_type": "code",
      "metadata": {
        "id": "gNlIkKZhkNeS"
      },
      "source": [
        "#The course claimed scaling would be a necessary step for this project,\n",
        "#but I was skeptical so i tried it with and without. It was important.\n",
        "\n",
        "from sklearn.preprocessing import StandardScaler\n",
        "\n",
        "#sc_x = StandardScaler()\n",
        "#X = sc_x.fit_transform(X)\n",
        "\n",
        "\n",
        "sc_y = StandardScaler()\n",
        "y = sc_y.fit_transform(y)\n",
        "\n",
        "y = y.reshape(len(y))"
      ],
      "execution_count": 7,
      "outputs": []
    },
    {
      "cell_type": "code",
      "metadata": {
        "id": "xM9VaKlxz1b2",
        "outputId": "4df70261-dd6c-4f94-dcab-82132c2649ea",
        "colab": {
          "base_uri": "https://localhost:8080/",
          "height": 56
        }
      },
      "source": [
        "print(y)"
      ],
      "execution_count": 8,
      "outputs": [
        {
          "output_type": "stream",
          "text": [
            "[-0.72004253 -0.70243757 -0.66722767 -0.59680786 -0.49117815 -0.35033854\n",
            " -0.17428902  0.17781001  0.88200808  2.64250325]\n"
          ],
          "name": "stdout"
        }
      ]
    },
    {
      "cell_type": "markdown",
      "metadata": {
        "id": "eiU6D2QFRjxY"
      },
      "source": [
        "## Training the SVR model on the whole dataset"
      ]
    },
    {
      "cell_type": "code",
      "metadata": {
        "id": "qhTcmL3NpKCj"
      },
      "source": [
        "from sklearn.svm import SVR\n",
        "\n",
        "reg = SVR(kernel='rbf').fit(X,y)"
      ],
      "execution_count": 9,
      "outputs": []
    },
    {
      "cell_type": "markdown",
      "metadata": {
        "id": "deDnDr8UR5vq"
      },
      "source": [
        "## Predicting a new result"
      ]
    },
    {
      "cell_type": "code",
      "metadata": {
        "id": "W2nvoE_wzL2U",
        "outputId": "8f5fca64-f625-4f85-be45-2a1aff24aea7",
        "colab": {
          "base_uri": "https://localhost:8080/",
          "height": 36
        }
      },
      "source": [
        "#unscaled prediction, returns 130,001.83\n",
        "sc_y.inverse_transform(reg.predict([[6.5]]))\n",
        "\n",
        "#scaled prediction\n",
        "#both scaled returns 170,370.02\n",
        "\n",
        "#only scaled X returns 130,001.83\n",
        "#only scaled y returns 170,370.02\n",
        "\n",
        "#scaled_in = sc_x.transform([[6.5]])\n",
        "#sc_y.inverse_transform(reg.predict(scaled_in))"
      ],
      "execution_count": 11,
      "outputs": [
        {
          "output_type": "execute_result",
          "data": {
            "text/plain": [
              "array([170370.0204065])"
            ]
          },
          "metadata": {
            "tags": []
          },
          "execution_count": 11
        }
      ]
    },
    {
      "cell_type": "markdown",
      "metadata": {
        "id": "zzedFlUISSu_"
      },
      "source": [
        "## Visualising the SVR results"
      ]
    },
    {
      "cell_type": "code",
      "metadata": {
        "id": "_tCoCxrw3R4o"
      },
      "source": [
        "plt.scatter(sc_x.inverse_transform(X),sc_y.inverse_transform(y), color='purple')\n",
        "plt.plot(sc_x.inverse_transform(X), sc_y.inverse_transform(reg.predict(X)))\n",
        "plt.xlabel('Career Rank') \n",
        "plt.ylabel('Career Salary') \n",
        "plt.title('Salary vs Rank SVR')   \n"
      ],
      "execution_count": null,
      "outputs": []
    },
    {
      "cell_type": "markdown",
      "metadata": {
        "id": "UahPVNlJSZ-K"
      },
      "source": [
        "## Visualising the SVR results (for higher resolution and smoother curve)"
      ]
    },
    {
      "cell_type": "code",
      "metadata": {
        "id": "dMEQS3Pk4Qoz"
      },
      "source": [
        "plt.scatter(sc_x.inverse_transform(X),sc_y.inverse_transform(y), color='purple')\n",
        "\n",
        "X_smoothed=np.arange(min(X), max(X), 0.1).reshape(-1,1)\n",
        "\n",
        "plt.plot(sc_x.inverse_transform(X_smoothed), sc_y.inverse_transform(reg.predict(X_smoothed)))\n",
        "\n"
      ],
      "execution_count": null,
      "outputs": []
    }
  ]
}